{
  "nbformat": 4,
  "nbformat_minor": 0,
  "metadata": {
    "colab": {
      "provenance": [],
      "authorship_tag": "ABX9TyPdLf7zCjf0MQegh2J8Ah14",
      "include_colab_link": true
    },
    "kernelspec": {
      "name": "python3",
      "display_name": "Python 3"
    },
    "language_info": {
      "name": "python"
    }
  },
  "cells": [
    {
      "cell_type": "markdown",
      "metadata": {
        "id": "view-in-github",
        "colab_type": "text"
      },
      "source": [
        "<a href=\"https://colab.research.google.com/github/9391693230/ashok-github/blob/main/NUMPY.ipynb\" target=\"_parent\"><img src=\"https://colab.research.google.com/assets/colab-badge.svg\" alt=\"Open In Colab\"/></a>"
      ]
    },
    {
      "cell_type": "markdown",
      "source": [
        "#NUMPY:\n",
        "\n",
        "numpy is python library used for workig with arrays.\n",
        "numpy was created in 2005 by **travis oliphant**.\n",
        "numpy stands for numerical python.\n",
        "\n",
        "**WHY USE NUMPY?**\n",
        "numpy aims to provide an array object that is upto 50x faster than traditional python lists.\n",
        "\n",
        "**WHY ARRAY FASTER THAN LIST**\n",
        "numpy aims to provide an array object that is upto 50x faster than traditional python list.\n",
        "# WHY ARRAY FASTER THAN LISTS?\n",
        "python list will store in scattered memory allocation means each and every value inside the a list holds a separate memory.\n",
        "\n",
        "but in array in numpy will store in contigoues memory allocation means contigiues memory all the value will be store in continous memory.\n",
        "\n",
        "# difference between list and array\n",
        "\n",
        "# LIST\n",
        "1. can store both heterogenous and homogenous values.\n",
        "2. on list we can perform only limited operations.\n",
        "3. list will store in scattered memory allocation.\n",
        "\n",
        "# ARRAY\n",
        "1.it allow only homogenus values\n",
        "(numpy data type hierarchy lowest to highest precision)\n",
        "A. boolean(bool) --> True,False\n",
        "B. integer (int64,int32,int16,int8) --> 42,234\n",
        "C. Floating point(float16,float32,float64) --> 1.3,4.7\n",
        "D. complex numbers (complex64,complex128) --> 2+4j\n",
        "E. string(str,<U>) --> \"hello\" , \"123\"\n",
        "\n",
        "2. An array we can perform almost an attribute operation and also it takes value by value.\n",
        "\n",
        "3. array in numpy will store in contingous memory allocation.\n",
        "\n",
        "#note\n",
        "1. array are functionally used in data science , when speed and resources are very important.\n",
        "2. numpy sees incomplete shpes and types (list,tuple,set)\n",
        "3. list , tuple , set and dict are containers (not scaler values) and cannot be represented as fixed -size binary values like int,float,or str.\n",
        "#bool<int<float<complex<str<object\n",
        "\n",
        "\n",
        "\n",
        "\n"
      ],
      "metadata": {
        "id": "kkveyNrZidnI"
      }
    },
    {
      "cell_type": "code",
      "source": [],
      "metadata": {
        "id": "nE6qc3v9_S28"
      },
      "execution_count": null,
      "outputs": []
    },
    {
      "cell_type": "code",
      "source": [
        "import numpy as np\n",
        "arr = np.array([1,2,3,4])\n",
        "arr = np.array([1,2,3,4])\n",
        "print(arr)\n",
        "print(type(arr))"
      ],
      "metadata": {
        "colab": {
          "base_uri": "https://localhost:8080/"
        },
        "id": "zx9S3uRAqUDi",
        "outputId": "b5c4012a-9a26-4d73-9d4f-81b200eeeede"
      },
      "execution_count": 1,
      "outputs": [
        {
          "output_type": "stream",
          "name": "stdout",
          "text": [
            "[1 2 3 4]\n",
            "<class 'numpy.ndarray'>\n"
          ]
        }
      ]
    },
    {
      "cell_type": "code",
      "source": [
        "arr_list= np.array([1,2,3,4])\n",
        "arr_tuple= np.array((10,20,30))\n",
        "arr_str = np.array(\"ashok\")\n",
        "arr_set = np.array({1,2,2,3,4})\n",
        "arr_dict = np. array({\"a\":1})\n",
        "\n",
        "print(arr_list.dtype)\n",
        "print(arr_tuple.dtype)\n",
        "print(arr_set.dtype)\n",
        "print(arr_str.dtype)\n",
        "print(arr_dict.dtype)"
      ],
      "metadata": {
        "colab": {
          "base_uri": "https://localhost:8080/"
        },
        "id": "3uaYI0olqwDi",
        "outputId": "bbb5dbc1-1d9c-465b-ad30-80e4d71b66ff"
      },
      "execution_count": 2,
      "outputs": [
        {
          "output_type": "stream",
          "name": "stdout",
          "text": [
            "int64\n",
            "int64\n",
            "object\n",
            "<U5\n",
            "object\n"
          ]
        }
      ]
    },
    {
      "cell_type": "code",
      "source": [
        "arr_bool = np.array((True,False))\n",
        "print(arr_bool.dtype)\n",
        "\n",
        "arr_int = np.array((1,2,))\n",
        "print(arr_int.dtype)\n",
        "\n",
        "arr_float = np.array((1.2))\n",
        "print(arr_float.dtype)\n",
        "\n",
        "arr_complex = np.array((1+0j))\n",
        "print(arr_complex.dtype)\n"
      ],
      "metadata": {
        "colab": {
          "base_uri": "https://localhost:8080/"
        },
        "id": "y0qPyR6gt00z",
        "outputId": "d8cb1d8b-333d-4744-d9a8-2285aee7f1ae"
      },
      "execution_count": 3,
      "outputs": [
        {
          "output_type": "stream",
          "name": "stdout",
          "text": [
            "bool\n",
            "int64\n",
            "float64\n",
            "complex128\n"
          ]
        }
      ]
    },
    {
      "cell_type": "markdown",
      "source": [
        "#2D ARRAY\n"
      ],
      "metadata": {
        "id": "5IipbUOxw46a"
      }
    },
    {
      "cell_type": "code",
      "source": [
        "arr = np.array([[1,2,3],[4,5,6]])\n",
        "print(arr)\n",
        "print(arr.ndim)\n",
        "print(arr.dtype)"
      ],
      "metadata": {
        "colab": {
          "base_uri": "https://localhost:8080/"
        },
        "id": "8A95ZfaZu1-B",
        "outputId": "a57f5b98-dcf0-445d-81e0-2e647bdc0efe"
      },
      "execution_count": 4,
      "outputs": [
        {
          "output_type": "stream",
          "name": "stdout",
          "text": [
            "[[1 2 3]\n",
            " [4 5 6]]\n",
            "2\n",
            "int64\n"
          ]
        }
      ]
    },
    {
      "cell_type": "markdown",
      "source": [
        "#3D ARRAY\n"
      ],
      "metadata": {
        "id": "7Fzwa9gL20ny"
      }
    },
    {
      "cell_type": "code",
      "source": [
        "arr = np.array([[[1,2,3],[4,5,6],[8,9,4]]])\n",
        "print(arr)\n",
        "print(arr.ndim)\n",
        "print(arr.dtype)"
      ],
      "metadata": {
        "colab": {
          "base_uri": "https://localhost:8080/"
        },
        "id": "e6p97pU0wWJO",
        "outputId": "204b24e9-e925-4119-f44f-d6d2f488f05c"
      },
      "execution_count": 5,
      "outputs": [
        {
          "output_type": "stream",
          "name": "stdout",
          "text": [
            "[[[1 2 3]\n",
            "  [4 5 6]\n",
            "  [8 9 4]]]\n",
            "3\n",
            "int64\n"
          ]
        }
      ]
    },
    {
      "cell_type": "markdown",
      "source": [
        "# 3D ARRAY(DEPTH,ROWS,COLOUMNS)"
      ],
      "metadata": {
        "id": "K-x2OptC25yd"
      }
    },
    {
      "cell_type": "code",
      "source": [
        "import numpy as np\n",
        "l=[[[1,2,3],\n",
        " [4,5,6],\n",
        "  [7,8,9]],\n",
        "   [[1,2,3],\n",
        "    [4,5,6],\n",
        "     [7,8,9]]]\n",
        "arr = np.array(1)\n",
        "print(arr)"
      ],
      "metadata": {
        "colab": {
          "base_uri": "https://localhost:8080/"
        },
        "id": "srbZrv74pjvt",
        "outputId": "fe79fd27-47b7-44cf-b34a-32d9a7d94e2d"
      },
      "execution_count": 6,
      "outputs": [
        {
          "output_type": "stream",
          "name": "stdout",
          "text": [
            "1\n"
          ]
        }
      ]
    },
    {
      "cell_type": "markdown",
      "source": [
        "#INBUILT FUNCTIONS IN NUMPY\n",
        "#1.NP.ZEROS()\n",
        "#2.NP.ONES()\n",
        "#3.NP.ARANGE()\n",
        "#4.NP.LINSPACE()\n",
        "#5.NP.EMPTY()\n",
        "#6.np.EYE()\n",
        "#7.np.IDENTITY()\n",
        "#8.np.RESHAPE()\n",
        "#10.np.RAVEL()\n",
        "\n",
        "#array mathematical functions\n",
        "\n",
        "#1,np.SUM()\n",
        "#2.np.MEAN()\n",
        "#3.np.MEDIAN()\n",
        "#4.np.STD()\n",
        "#5.np.MAX()\n",
        "#6.np.MIN()\n",
        "\n",
        "#random functions\n",
        "#1.np.random.rand()\n",
        "#2.np.rabdom.randint()\n",
        "#3.np.random.randn()\n",
        "\n"
      ],
      "metadata": {
        "id": "aRNhbKHh3ArH"
      }
    },
    {
      "cell_type": "code",
      "source": [
        "import numpy as np\n",
        "arr = [[[1,2],\n",
        "     [3,4],\n",
        "     [5,6]]], [[[1,2],[3,4],[5,6]]]\n",
        "\n",
        "print(arr)\n",
        "np.zeros((2),dtype=int)\n",
        "np.zeros((3,2))\n",
        "np.zeros((2,2,3))\n"
      ],
      "metadata": {
        "colab": {
          "base_uri": "https://localhost:8080/"
        },
        "id": "_p4WB7tEyGEA",
        "outputId": "7b653a38-a46e-4366-e524-f19832059a8a"
      },
      "execution_count": 7,
      "outputs": [
        {
          "output_type": "stream",
          "name": "stdout",
          "text": [
            "([[[1, 2], [3, 4], [5, 6]]], [[[1, 2], [3, 4], [5, 6]]])\n"
          ]
        },
        {
          "output_type": "execute_result",
          "data": {
            "text/plain": [
              "array([[[0., 0., 0.],\n",
              "        [0., 0., 0.]],\n",
              "\n",
              "       [[0., 0., 0.],\n",
              "        [0., 0., 0.]]])"
            ]
          },
          "metadata": {},
          "execution_count": 7
        }
      ]
    },
    {
      "cell_type": "code",
      "source": [
        "np.ones((2))\n",
        "np.ones((2,3))\n",
        "np.ones((2,3,3))"
      ],
      "metadata": {
        "colab": {
          "base_uri": "https://localhost:8080/"
        },
        "id": "IVDa1BRxzrTU",
        "outputId": "3541b036-59ea-4335-bbc6-8347070f20af"
      },
      "execution_count": 8,
      "outputs": [
        {
          "output_type": "execute_result",
          "data": {
            "text/plain": [
              "array([[[1., 1., 1.],\n",
              "        [1., 1., 1.],\n",
              "        [1., 1., 1.]],\n",
              "\n",
              "       [[1., 1., 1.],\n",
              "        [1., 1., 1.],\n",
              "        [1., 1., 1.]]])"
            ]
          },
          "metadata": {},
          "execution_count": 8
        }
      ]
    },
    {
      "cell_type": "code",
      "source": [
        "import numpy as np\n",
        "np.arange(1,11,dtype=int)"
      ],
      "metadata": {
        "colab": {
          "base_uri": "https://localhost:8080/"
        },
        "id": "evwk8eVW2VME",
        "outputId": "1aa73d48-250a-4052-f682-ec8a5a1e6caa"
      },
      "execution_count": 9,
      "outputs": [
        {
          "output_type": "execute_result",
          "data": {
            "text/plain": [
              "array([ 1,  2,  3,  4,  5,  6,  7,  8,  9, 10])"
            ]
          },
          "metadata": {},
          "execution_count": 9
        }
      ]
    },
    {
      "cell_type": "code",
      "source": [
        "import numpy as np\n",
        "arr = np.linspace(1,50,dtype=int)\n",
        "print(arr)"
      ],
      "metadata": {
        "colab": {
          "base_uri": "https://localhost:8080/"
        },
        "id": "m1VB91SJ3VyZ",
        "outputId": "5afdd624-f32e-4116-c825-dbd15408138c"
      },
      "execution_count": 10,
      "outputs": [
        {
          "output_type": "stream",
          "name": "stdout",
          "text": [
            "[ 1  2  3  4  5  6  7  8  9 10 11 12 13 14 15 16 17 18 19 20 21 22 23 24\n",
            " 25 26 27 28 29 30 31 32 33 34 35 36 37 38 39 40 41 42 43 44 45 46 47 48\n",
            " 49 50]\n"
          ]
        }
      ]
    },
    {
      "cell_type": "code",
      "source": [
        "import numpy as np\n",
        "arr = np.empty((3,3,1),dtype=float)\n",
        "print(arr)"
      ],
      "metadata": {
        "colab": {
          "base_uri": "https://localhost:8080/"
        },
        "id": "F5cBKYJJ5cK1",
        "outputId": "8ce6e530-2ac8-4a32-e140-279283e7425a"
      },
      "execution_count": 11,
      "outputs": [
        {
          "output_type": "stream",
          "name": "stdout",
          "text": [
            "[[[4.9e-324]\n",
            "  [9.9e-324]\n",
            "  [1.5e-323]]\n",
            "\n",
            " [[2.0e-323]\n",
            "  [2.5e-323]\n",
            "  [3.0e-323]]\n",
            "\n",
            " [[4.0e-323]\n",
            "  [4.4e-323]\n",
            "  [2.0e-323]]]\n"
          ]
        }
      ]
    },
    {
      "cell_type": "code",
      "source": [
        "import numpy as np\n",
        "arr = [[[[1,2,3],[3,4,5],[4,5,6],[6,7,8]],\n",
        " [[1,2,3],[3,4,5],[4,5,6],[6,7,8]],\n",
        "  [[1,2,3],[3,4,5],[4,5,6],[6,7,8]]]]\n",
        "print(arr)\n"
      ],
      "metadata": {
        "colab": {
          "base_uri": "https://localhost:8080/"
        },
        "id": "qxg7K_crdTyy",
        "outputId": "9a1e5677-99c4-42a0-fa14-141f3251062e"
      },
      "execution_count": 12,
      "outputs": [
        {
          "output_type": "stream",
          "name": "stdout",
          "text": [
            "[[[[1, 2, 3], [3, 4, 5], [4, 5, 6], [6, 7, 8]], [[1, 2, 3], [3, 4, 5], [4, 5, 6], [6, 7, 8]], [[1, 2, 3], [3, 4, 5], [4, 5, 6], [6, 7, 8]]]]\n"
          ]
        }
      ]
    },
    {
      "cell_type": "code",
      "source": [
        "import numpy as np\n",
        "arr = np.eye(4,4,2,dtype=float)\n",
        "arr = np.identity(3)\n",
        "print(arr)"
      ],
      "metadata": {
        "colab": {
          "base_uri": "https://localhost:8080/"
        },
        "id": "FaU_cDco6c3x",
        "outputId": "9c748242-ddf3-4455-bd54-3eaf116b9c1d"
      },
      "execution_count": 13,
      "outputs": [
        {
          "output_type": "stream",
          "name": "stdout",
          "text": [
            "[[1. 0. 0.]\n",
            " [0. 1. 0.]\n",
            " [0. 0. 1.]]\n"
          ]
        }
      ]
    },
    {
      "cell_type": "code",
      "source": [
        "import numpy as np\n",
        "arr = np.identity(4)\n",
        "print(arr)"
      ],
      "metadata": {
        "colab": {
          "base_uri": "https://localhost:8080/"
        },
        "id": "QMuWS9ZG7gY3",
        "outputId": "6d0984f8-955f-4504-86c3-f3f0113333a4"
      },
      "execution_count": 14,
      "outputs": [
        {
          "output_type": "stream",
          "name": "stdout",
          "text": [
            "[[1. 0. 0. 0.]\n",
            " [0. 1. 0. 0.]\n",
            " [0. 0. 1. 0.]\n",
            " [0. 0. 0. 1.]]\n"
          ]
        }
      ]
    },
    {
      "cell_type": "code",
      "source": [
        "# reshape\n",
        "l = [1,2,3,4,5,6,7,8,9,10,11,12]\n",
        "arr=np.reshape(l,(2,6))\n",
        "print(arr)\n",
        "\n",
        "\n",
        "l1=[1,2,3,4,5,6]\n",
        "arr= np.reshape(l1,(2,3))\n",
        "print(arr)"
      ],
      "metadata": {
        "colab": {
          "base_uri": "https://localhost:8080/"
        },
        "id": "WiJXAu9di8h0",
        "outputId": "ebfac4b1-4c99-4047-f525-399ba96d8a5c"
      },
      "execution_count": 41,
      "outputs": [
        {
          "output_type": "stream",
          "name": "stdout",
          "text": [
            "[[ 1  2  3  4  5  6]\n",
            " [ 7  8  9 10 11 12]]\n",
            "[[1 2 3]\n",
            " [4 5 6]]\n"
          ]
        }
      ]
    },
    {
      "cell_type": "code",
      "source": [
        "#np.ravel()\n",
        "\n",
        "import numpy as np\n",
        "arr = np.arange(2,21,2)\n",
        "arr_re = np.reshape(arr,(5,2))\n",
        "print(arr_re)\n",
        "re=np.reshape(arr,(-1))\n",
        "print(re)\n",
        "print(arr_re.ravel())"
      ],
      "metadata": {
        "colab": {
          "base_uri": "https://localhost:8080/"
        },
        "id": "diG5SvLRkpN9",
        "outputId": "4015bc71-db2f-415f-afd1-505bddebae18"
      },
      "execution_count": 43,
      "outputs": [
        {
          "output_type": "stream",
          "name": "stdout",
          "text": [
            "[[ 2  4]\n",
            " [ 6  8]\n",
            " [10 12]\n",
            " [14 16]\n",
            " [18 20]]\n",
            "[ 2  4  6  8 10 12 14 16 18 20]\n",
            "[ 2  4  6  8 10 12 14 16 18 20]\n"
          ]
        }
      ]
    },
    {
      "cell_type": "code",
      "source": [
        "# array mathematical functions\n",
        "\n",
        "import numpy as np\n",
        "arr=np.arange(1,101)\n",
        "print(np.sum(arr))\n",
        "print(np.mean(arr))\n",
        "print(np.median(arr))\n",
        "print(np.std(arr))\n",
        "print(np.min(arr))\n",
        "print(np.max(arr))"
      ],
      "metadata": {
        "colab": {
          "base_uri": "https://localhost:8080/"
        },
        "id": "WoJMwIftlfRe",
        "outputId": "10babc5b-1715-496e-fbb9-dad1ac42d869"
      },
      "execution_count": 46,
      "outputs": [
        {
          "output_type": "stream",
          "name": "stdout",
          "text": [
            "5050\n",
            "50.5\n",
            "50.5\n",
            "28.86607004772212\n",
            "1\n",
            "100\n"
          ]
        }
      ]
    },
    {
      "cell_type": "code",
      "source": [
        "# random functions\n",
        "# 1. random.rand()\n",
        "arr=np.random.rand(2,2,2)\n",
        "print(arr)\n",
        "\n",
        "#2. random.randint()\n",
        "\n",
        "arr1 = np.random.randint(1,10,(3,3),dtype=int)\n",
        "print(arr1)\n",
        "\n",
        "# 3.random.randn()\n",
        "\n",
        "arr2= np.random.rand(2,3,2)\n",
        "print(arr2)"
      ],
      "metadata": {
        "colab": {
          "base_uri": "https://localhost:8080/"
        },
        "id": "NX3k4tJlmL7J",
        "outputId": "d00e4131-502a-4da7-95dc-c2ae7dcf1aa6"
      },
      "execution_count": 48,
      "outputs": [
        {
          "output_type": "stream",
          "name": "stdout",
          "text": [
            "[[[0.73635897 0.03300975]\n",
            "  [0.0494879  0.99530959]]\n",
            "\n",
            " [[0.14904995 0.60027901]\n",
            "  [0.37815985 0.74709694]]]\n",
            "[[6 4 4]\n",
            " [7 1 1]\n",
            " [2 7 8]]\n",
            "[[[0.62833518 0.16172506]\n",
            "  [0.76882449 0.32860633]\n",
            "  [0.51780509 0.28609711]]\n",
            "\n",
            " [[0.39954488 0.69020761]\n",
            "  [0.60330341 0.20856184]\n",
            "  [0.15591819 0.4223055 ]]]\n"
          ]
        }
      ]
    },
    {
      "cell_type": "code",
      "source": [
        "#1.create a 1D numpy array with values from 0 to 9\n",
        "import numpy as np\n",
        "arr = np.arange(1,10)\n",
        "print(arr)"
      ],
      "metadata": {
        "colab": {
          "base_uri": "https://localhost:8080/"
        },
        "id": "htiJ6ZUp3B2q",
        "outputId": "3ca7b60b-2e21-46ff-fc45-ac27362a1158"
      },
      "execution_count": 3,
      "outputs": [
        {
          "output_type": "stream",
          "name": "stdout",
          "text": [
            "[1 2 3 4 5 6 7 8 9]\n"
          ]
        }
      ]
    },
    {
      "cell_type": "code",
      "source": [
        "# 2. what is the shape and data type of the arry : np.array({5,10,15,20})\n",
        "import numpy as np\n",
        "arr = np.array([5,10,15,20])\n",
        "print(arr.shape)\n",
        "print(arr.dtype)"
      ],
      "metadata": {
        "colab": {
          "base_uri": "https://localhost:8080/"
        },
        "id": "InHmGfub3Uf7",
        "outputId": "41519a34-6fad-490f-8a52-3b32239741b4"
      },
      "execution_count": 31,
      "outputs": [
        {
          "output_type": "stream",
          "name": "stdout",
          "text": [
            "(4,)\n",
            "int64\n"
          ]
        }
      ]
    },
    {
      "cell_type": "code",
      "source": [
        "# 3. convert a python list [1,2,3,4] into a numpy array.\n",
        "import numpy as np\n",
        "l=[1,2,3,4]\n",
        "arr = np.array([l])\n",
        "print(arr)"
      ],
      "metadata": {
        "colab": {
          "base_uri": "https://localhost:8080/"
        },
        "id": "mtJHFLID31l7",
        "outputId": "33f44c20-d6bf-4560-d1c4-b157c7fb24ab"
      },
      "execution_count": 5,
      "outputs": [
        {
          "output_type": "stream",
          "name": "stdout",
          "text": [
            "[[1 2 3 4]]\n"
          ]
        }
      ]
    },
    {
      "cell_type": "code",
      "source": [
        "# 4. how do you acces the third element of a 1D numpy arrat?\n",
        "import numpy as np\n",
        "arr=np.array([1,2,3,4])\n",
        "print(arr[2])"
      ],
      "metadata": {
        "colab": {
          "base_uri": "https://localhost:8080/"
        },
        "id": "nbkhpDYq4oYn",
        "outputId": "d65d8bfd-768e-40cb-dd83-78e0a4854ac2"
      },
      "execution_count": 7,
      "outputs": [
        {
          "output_type": "stream",
          "name": "stdout",
          "text": [
            "3\n"
          ]
        }
      ]
    },
    {
      "cell_type": "code",
      "source": [
        "# 5. create a 1D array of 10 zeros and chnafe the 5th element to 10 ?\n",
        "import numpy as np\n",
        "arr = np.zeros(11)\n",
        "arr[4]=100\n",
        "print(arr)"
      ],
      "metadata": {
        "colab": {
          "base_uri": "https://localhost:8080/"
        },
        "id": "Mq3Bte9Z42Ao",
        "outputId": "c8f7e829-408b-41f8-d3de-9643b06b7446"
      },
      "execution_count": 26,
      "outputs": [
        {
          "output_type": "stream",
          "name": "stdout",
          "text": [
            "[  0.   0.   0.   0. 100.   0.   0.   0.   0.   0.   0.]\n"
          ]
        }
      ]
    },
    {
      "cell_type": "code",
      "source": [
        "#6.\n",
        "\n",
        "arr=np.random.randint(1,101,[2,6])\n",
        "print(np.min(arr))\n",
        "print(np.max(arr))\n",
        "print(arr)"
      ],
      "metadata": {
        "colab": {
          "base_uri": "https://localhost:8080/"
        },
        "id": "VfKa62ynop2s",
        "outputId": "0ff54133-19a5-4d88-c6ff-05b513e26aeb"
      },
      "execution_count": 54,
      "outputs": [
        {
          "output_type": "stream",
          "name": "stdout",
          "text": [
            "1\n",
            "100\n",
            "[[ 63 100  24  33  62  93]\n",
            " [ 68  98   1  72  23  37]]\n"
          ]
        }
      ]
    },
    {
      "cell_type": "code",
      "source": [
        "# 7. create a 2X3 numpy array with values from 1 to 6?\n",
        "import numpy as np\n",
        "arr = np.array([[1,2,3],\n",
        "               [4,5,6]])\n",
        "print(arr)"
      ],
      "metadata": {
        "colab": {
          "base_uri": "https://localhost:8080/"
        },
        "id": "Ybhl46Xn7pa-",
        "outputId": "9d33bc84-6bab-4255-d65c-456264604a50"
      },
      "execution_count": 27,
      "outputs": [
        {
          "output_type": "stream",
          "name": "stdout",
          "text": [
            "[[1 2 3]\n",
            " [4 5 6]]\n"
          ]
        }
      ]
    },
    {
      "cell_type": "code",
      "source": [
        "# 8. how do you acces the element in the second row , third coloumn of a 2D array?\n",
        "import numpy as np\n",
        "arr = np.array([[1,2,3,4],\n",
        "               [4,5,6,5]])\n",
        "\n",
        "print(arr[1,2])"
      ],
      "metadata": {
        "colab": {
          "base_uri": "https://localhost:8080/"
        },
        "id": "4P5v482L7_IK",
        "outputId": "d9475884-ee24-4e0a-b274-a3bcb37f6c6e"
      },
      "execution_count": 30,
      "outputs": [
        {
          "output_type": "stream",
          "name": "stdout",
          "text": [
            "6\n"
          ]
        }
      ]
    },
    {
      "cell_type": "code",
      "source": [
        "#9. what is the shape of the folloeing array : np.array([[1,2],[3,4],[5,6]]) ?\n",
        "\n",
        "import numpy as np\n",
        "arr = np.array([[1,2],[3,4],[5,6]])\n",
        "print(arr.shape)"
      ],
      "metadata": {
        "colab": {
          "base_uri": "https://localhost:8080/"
        },
        "id": "iJxX-ObZ96hp",
        "outputId": "088cc63a-6909-4d50-c102-c94860d8f625"
      },
      "execution_count": 33,
      "outputs": [
        {
          "output_type": "stream",
          "name": "stdout",
          "text": [
            "(3, 2)\n"
          ]
        }
      ]
    },
    {
      "cell_type": "code",
      "source": [
        "# 10 . craete a 4x4 array of all zeros and replace the diagonal element with 1?\n",
        "\n",
        "import numpy as np\n",
        "arr = np.zeros((4,4))\n",
        "np.fill_diagonal(arr , 1)\n",
        "print(arr)"
      ],
      "metadata": {
        "colab": {
          "base_uri": "https://localhost:8080/"
        },
        "id": "fQna4ALI-Z15",
        "outputId": "7148c63d-3127-4fa0-e95d-62511698d0e9"
      },
      "execution_count": 34,
      "outputs": [
        {
          "output_type": "stream",
          "name": "stdout",
          "text": [
            "[[1. 0. 0. 0.]\n",
            " [0. 1. 0. 0.]\n",
            " [0. 0. 1. 0.]\n",
            " [0. 0. 0. 1.]]\n"
          ]
        }
      ]
    },
    {
      "cell_type": "code",
      "source": [
        "#11. create 3x3  identity matrix using numpy?\n",
        "\n",
        "import numpy as np\n",
        "arr = np.identity(3)\n",
        "print(arr)"
      ],
      "metadata": {
        "colab": {
          "base_uri": "https://localhost:8080/"
        },
        "id": "ENlY0QzV_UNV",
        "outputId": "317fa17c-41fa-4ed7-f55d-1bb353f52667"
      },
      "execution_count": 38,
      "outputs": [
        {
          "output_type": "stream",
          "name": "stdout",
          "text": [
            "[[1. 0. 0.]\n",
            " [0. 1. 0.]\n",
            " [0. 0. 1.]]\n"
          ]
        }
      ]
    },
    {
      "cell_type": "code",
      "source": [
        "import numpy as np\n",
        "arr = np.array([[[1,2,3],\n",
        "                [4,5,6]],\n",
        "               [[1,2,3],\n",
        "                [4,5,6]]])\n",
        "print(arr)\n",
        "print(arr.shape)\n",
        "print(arr.ndim)\n",
        "print(arr.dtype)"
      ],
      "metadata": {
        "colab": {
          "base_uri": "https://localhost:8080/"
        },
        "id": "vvFcH-fKKHSu",
        "outputId": "41eb6fc4-3aed-4a6a-9d37-bf122d196313"
      },
      "execution_count": 4,
      "outputs": [
        {
          "output_type": "stream",
          "name": "stdout",
          "text": [
            "[[[1 2 3]\n",
            "  [4 5 6]]\n",
            "\n",
            " [[1 2 3]\n",
            "  [4 5 6]]]\n",
            "(2, 2, 3)\n",
            "3\n",
            "int64\n"
          ]
        }
      ]
    },
    {
      "cell_type": "code",
      "source": [
        "# 12. create 3D numpy array with the shape (2,3,4) filled with zeros?\n",
        "\n",
        "import numpy as np\n",
        "arr = np.zeros((2,3,4))\n",
        "\n",
        "\n",
        "print(arr)\n",
        "print(arr.ndim)"
      ],
      "metadata": {
        "colab": {
          "base_uri": "https://localhost:8080/"
        },
        "id": "VoW9bDsadlCi",
        "outputId": "0929b9f0-feea-4e36-e45b-a87a1d61371c"
      },
      "execution_count": 10,
      "outputs": [
        {
          "output_type": "stream",
          "name": "stdout",
          "text": [
            "[[[0. 0. 0. 0.]\n",
            "  [0. 0. 0. 0.]\n",
            "  [0. 0. 0. 0.]]\n",
            "\n",
            " [[0. 0. 0. 0.]\n",
            "  [0. 0. 0. 0.]\n",
            "  [0. 0. 0. 0.]]]\n",
            "3\n"
          ]
        }
      ]
    },
    {
      "cell_type": "code",
      "source": [
        "# 13. what is the shape of the array : np.ones((2,2,2)) ?\n",
        "\n",
        "import numpy as np\n",
        "arr = np.ones((2,2,2))\n",
        "print(arr)\n",
        "print(arr.ndim)"
      ],
      "metadata": {
        "colab": {
          "base_uri": "https://localhost:8080/"
        },
        "id": "JpriexV-frqm",
        "outputId": "83a8ec70-da09-4ac6-8ff9-18a31823586d"
      },
      "execution_count": 12,
      "outputs": [
        {
          "output_type": "stream",
          "name": "stdout",
          "text": [
            "[[[1. 1.]\n",
            "  [1. 1.]]\n",
            "\n",
            " [[1. 1.]\n",
            "  [1. 1.]]]\n",
            "3\n"
          ]
        }
      ]
    },
    {
      "cell_type": "code",
      "source": [
        "# 14 create a 3D array shape of (2,3,3) filled with random number between o and 1?\n",
        "\n",
        "import numpy as np\n",
        "arr= np.random.rand(2,3,3)\n",
        "print(arr)\n",
        "print(arr.ndim)"
      ],
      "metadata": {
        "colab": {
          "base_uri": "https://localhost:8080/"
        },
        "id": "CWm47AQqgGLz",
        "outputId": "f5351b58-0a30-4c18-8803-2462c520f861"
      },
      "execution_count": 26,
      "outputs": [
        {
          "output_type": "stream",
          "name": "stdout",
          "text": [
            "[[[0.79793733 0.8133942  0.08159784]\n",
            "  [0.23720183 0.27443329 0.75415451]\n",
            "  [0.86222702 0.91464794 0.5148408 ]]\n",
            "\n",
            " [[0.85533018 0.16410778 0.83566276]\n",
            "  [0.75452551 0.09636256 0.90661581]\n",
            "  [0.35033058 0.75522581 0.65758903]]]\n",
            "3\n"
          ]
        }
      ]
    },
    {
      "cell_type": "code",
      "source": [],
      "metadata": {
        "id": "R0GGnlbUiiir"
      },
      "execution_count": null,
      "outputs": []
    }
  ]
}